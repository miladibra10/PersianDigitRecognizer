{
 "cells": [
  {
   "cell_type": "markdown",
   "metadata": {},
   "source": [
    "# Persian Digit Recognizer\n",
    "we will use MLP for recognizing Persian Digits from HodaDataset. "
   ]
  },
  {
   "cell_type": "code",
   "execution_count": 10,
   "metadata": {},
   "outputs": [],
   "source": [
    "from HodaDatasetReader import read_hoda_dataset\n",
    "train_images, train_labels = read_hoda_dataset('./DigitDB/Train 60000.cdb', reshape=False)\n",
    "test_images, test_labels = read_hoda_dataset('./DigitDB/Test 20000.cdb', reshape=False)"
   ]
  },
  {
   "cell_type": "markdown",
   "metadata": {},
   "source": [
    "# Showing one sample of test and train sets\n",
    "we show some images from test sets and train sets"
   ]
  },
  {
   "cell_type": "markdown",
   "metadata": {},
   "source": [
    "## Examples from train set"
   ]
  },
  {
   "cell_type": "code",
   "execution_count": 19,
   "metadata": {},
   "outputs": [
    {
     "data": {
      "image/png": "[encoded data removed]",
      "text/plain": [
       "<Figure size 504x648 with 2 Axes>"
      ]
     },
     "metadata": {
      "needs_background": "light"
     },
     "output_type": "display_data"
    }
   ],
   "source": [
    "import numpy as np\n",
    "import matplotlib.pyplot as plt\n",
    "plt.rcParams['figure.figsize'] = (7,9)\n",
    "\n",
    "for i in range(2):\n",
    "    plt.subplot(2,2,i+1)\n",
    "    plt.imshow(train_images[i][:,:,0], cmap='gray', interpolation='none')\n",
    "    plt.title(\"Class {} : Train set\".format(int(train_labels[i])))"
   ]
  },
  {
   "cell_type": "markdown",
   "metadata": {},
   "source": [
    "## Examples from test set"
   ]
  },
  {
   "cell_type": "code",
   "execution_count": 20,
   "metadata": {},
   "outputs": [
    {
     "data": {
      "image/png": "[encoded data removed]",
      "text/plain": [
       "<Figure size 504x648 with 2 Axes>"
      ]
     },
     "metadata": {
      "needs_background": "light"
     },
     "output_type": "display_data"
    }
   ],
   "source": [
    "for i in range(2):\n",
    "    plt.subplot(2,2,i+1)\n",
    "    plt.imshow(test_images[i][:,:,0], cmap='gray', interpolation='none')\n",
    "    plt.title(\"Class {} : Train set\".format(int(test_labels[i])))"
   ]
  },
  {
   "cell_type": "markdown",
   "metadata": {},
   "source": [
    "# MLP model using Keras\n",
    "we use keras to design a MLP for learning this dataset on it. first we load and preprocess data again"
   ]
  },
  {
   "cell_type": "code",
   "execution_count": 21,
   "metadata": {},
   "outputs": [
    {
     "name": "stderr",
     "output_type": "stream",
     "text": [
      "Using TensorFlow backend.\n"
     ]
    }
   ],
   "source": [
    "from keras.utils import to_categorical\n",
    "train_images, train_labels = read_hoda_dataset('./DigitDB/Train 60000.cdb')\n",
    "test_images, test_labels = read_hoda_dataset('./DigitDB/Test 20000.cdb')\n",
    "train_labels = to_categorical(train_labels)\n",
    "test_labels = to_categorical(test_labels)"
   ]
  },
  {
   "cell_type": "markdown",
   "metadata": {},
   "source": [
    "## Model design\n",
    "model structure will be somthing like the model below:"
   ]
  },
  {
   "cell_type": "code",
   "execution_count": 32,
   "metadata": {},
   "outputs": [],
   "source": [
    "from keras.models import Sequential\n",
    "from keras.layers.core import Dense, Dropout\n",
    "\n",
    "model = Sequential()\n",
    "model.add(Dense(50, activation='relu', input_shape=(32 * 32,)))\n",
    "model.add(Dense(30, activation='relu'))\n",
    "model.add(Dense(10, activation='softmax'))\n",
    "model.compile(optimizer='rmsprop', loss='categorical_crossentropy', metrics=['accuracy'])"
   ]
  },
  {
   "cell_type": "markdown",
   "metadata": {},
   "source": [
    "## Training the network\n",
    "**then we can fit the model on network with train set. we will do this in 10 epochs and validation split of 0.2**"
   ]
  },
  {
   "cell_type": "code",
   "execution_count": 29,
   "metadata": {},
   "outputs": [
    {
     "name": "stdout",
     "output_type": "stream",
     "text": [
      "Train on 48000 samples, validate on 12000 samples\n",
      "Epoch 1/20\n",
      "48000/48000 [==============================] - 8s 170us/step - loss: 0.0021 - acc: 0.9995 - val_loss: 0.0449 - val_acc: 0.9934\n",
      "Epoch 2/20\n",
      "48000/48000 [==============================] - 8s 168us/step - loss: 0.0017 - acc: 0.9996 - val_loss: 0.0492 - val_acc: 0.9931\n",
      "Epoch 3/20\n",
      "48000/48000 [==============================] - 8s 161us/step - loss: 0.0016 - acc: 0.9998 - val_loss: 0.0581 - val_acc: 0.9915\n",
      "Epoch 4/20\n",
      "48000/48000 [==============================] - 8s 159us/step - loss: 0.0018 - acc: 0.9997 - val_loss: 0.0776 - val_acc: 0.9892\n",
      "Epoch 5/20\n",
      "48000/48000 [==============================] - 9s 178us/step - loss: 0.0015 - acc: 0.9998 - val_loss: 0.0647 - val_acc: 0.9915\n",
      "Epoch 6/20\n",
      "48000/48000 [==============================] - 9s 179us/step - loss: 0.0016 - acc: 0.9997 - val_loss: 0.0626 - val_acc: 0.9916\n",
      "Epoch 7/20\n",
      "48000/48000 [==============================] - 10s 204us/step - loss: 0.0014 - acc: 0.9998 - val_loss: 0.0716 - val_acc: 0.9907\n",
      "Epoch 8/20\n",
      "48000/48000 [==============================] - 9s 188us/step - loss: 0.0014 - acc: 0.9998 - val_loss: 0.0649 - val_acc: 0.9918\n",
      "Epoch 9/20\n",
      "48000/48000 [==============================] - 9s 187us/step - loss: 0.0012 - acc: 0.9999 - val_loss: 0.0682 - val_acc: 0.9914\n",
      "Epoch 10/20\n",
      "48000/48000 [==============================] - 8s 171us/step - loss: 0.0012 - acc: 0.9999 - val_loss: 0.0676 - val_acc: 0.9912\n",
      "Epoch 11/20\n",
      "48000/48000 [==============================] - 9s 190us/step - loss: 0.0014 - acc: 0.9999 - val_loss: 0.0705 - val_acc: 0.9917\n",
      "Epoch 12/20\n",
      "48000/48000 [==============================] - 9s 195us/step - loss: 0.0012 - acc: 0.9999 - val_loss: 0.0668 - val_acc: 0.9930\n",
      "Epoch 13/20\n",
      "48000/48000 [==============================] - 11s 225us/step - loss: 0.0010 - acc: 0.9999 - val_loss: 0.0651 - val_acc: 0.9919\n",
      "Epoch 14/20\n",
      "48000/48000 [==============================] - 9s 198us/step - loss: 0.0011 - acc: 0.9999 - val_loss: 0.0688 - val_acc: 0.9912\n",
      "Epoch 15/20\n",
      "48000/48000 [==============================] - 9s 195us/step - loss: 0.0010 - acc: 0.9999 - val_loss: 0.0643 - val_acc: 0.9922\n",
      "Epoch 16/20\n",
      "48000/48000 [==============================] - 10s 215us/step - loss: 0.0010 - acc: 0.9999 - val_loss: 0.0824 - val_acc: 0.9906\n",
      "Epoch 17/20\n",
      "48000/48000 [==============================] - 10s 206us/step - loss: 0.0010 - acc: 0.9999 - val_loss: 0.0709 - val_acc: 0.9918\n",
      "Epoch 18/20\n",
      "48000/48000 [==============================] - 10s 207us/step - loss: 0.0010 - acc: 0.9999 - val_loss: 0.0705 - val_acc: 0.9918\n",
      "Epoch 19/20\n",
      "48000/48000 [==============================] - 10s 214us/step - loss: 0.0010 - acc: 0.9999 - val_loss: 0.0677 - val_acc: 0.9915\n",
      "Epoch 20/20\n",
      "48000/48000 [==============================] - 11s 228us/step - loss: 0.0010 - acc: 0.9999 - val_loss: 0.0695 - val_acc: 0.9923\n"
     ]
    }
   ],
   "source": [
    "history = model.fit(train_images, train_labels, epochs=20, validation_split=0.2)\n"
   ]
  },
  {
   "cell_type": "markdown",
   "metadata": {},
   "source": [
    "## Error Plot\n",
    "now we can plot the error on train set and validation set"
   ]
  },
  {
   "cell_type": "code",
   "execution_count": 30,
   "metadata": {},
   "outputs": [
    {
     "data": {
      "image/png": "[encoded data removed]",
      "text/plain": [
       "<Figure size 504x648 with 1 Axes>"
      ]
     },
     "metadata": {
      "needs_background": "light"
     },
     "output_type": "display_data"
    }
   ],
   "source": [
    "plt.plot(history.history['loss'])\n",
    "plt.plot(history.history['val_loss'])\n",
    "plt.title('model loss')\n",
    "plt.ylabel('loss')\n",
    "plt.xlabel('epoch')\n",
    "plt.legend(['train', 'test'], loc='upper left')\n",
    "plt.show()"
   ]
  },
  {
   "cell_type": "markdown",
   "metadata": {},
   "source": [
    "## Measuring Metric \n",
    "we can use `sklearn` to compute **Precision**, **Recall** and **F1 score**\n",
    "precision ,recall and F1 score metrics are printed in a table after running code below "
   ]
  },
  {
   "cell_type": "code",
   "execution_count": 51,
   "metadata": {},
   "outputs": [
    {
     "name": "stdout",
     "output_type": "stream",
     "text": [
      "              precision    recall  f1-score   support\n",
      "\n",
      "           0       0.16      0.00      0.01      2000\n",
      "           1       0.05      0.00      0.00      2000\n",
      "           2       0.09      0.58      0.15      2000\n",
      "           3       0.24      0.08      0.12      2000\n",
      "           4       0.13      0.18      0.15      2000\n",
      "           5       0.14      0.02      0.03      2000\n",
      "           6       0.07      0.02      0.03      2000\n",
      "           7       0.04      0.01      0.02      2000\n",
      "           8       0.07      0.05      0.06      2000\n",
      "           9       0.00      0.00      0.00      2000\n",
      "\n",
      "   micro avg       0.10      0.10      0.10     20000\n",
      "   macro avg       0.10      0.10      0.06     20000\n",
      "weighted avg       0.10      0.10      0.06     20000\n",
      "\n"
     ]
    }
   ],
   "source": [
    "from sklearn.metrics import classification_report\n",
    "\n",
    "predicted = model.predict(test_images, verbose=0)\n",
    "predicted_classes = model.predict_classes(test_images, verbose=0)\n",
    "\n",
    "# reduce to 1D array\n",
    "predicted = np.argmax(predicted, axis=1)\n",
    "        \n",
    "report = classification_report(np.argmax(test_labels, axis=1), predicted)\n",
    "print(report)"
   ]
  },
  {
   "cell_type": "markdown",
   "metadata": {},
   "source": [
    "# Dropout\n",
    "adding a dropout layer help the network to avoid overfitting by ignoring some weights and nodes in each iteration. we add a dropout layer of value 0.2 and compare the results."
   ]
  },
  {
   "cell_type": "code",
   "execution_count": 53,
   "metadata": {},
   "outputs": [
    {
     "name": "stdout",
     "output_type": "stream",
     "text": [
      "Train on 48000 samples, validate on 12000 samples\n",
      "Epoch 1/20\n",
      "48000/48000 [==============================] - 11s 228us/step - loss: 0.2520 - acc: 0.9294 - val_loss: 0.1022 - val_acc: 0.9730\n",
      "Epoch 2/20\n",
      "48000/48000 [==============================] - 9s 193us/step - loss: 0.1106 - acc: 0.9706 - val_loss: 0.0896 - val_acc: 0.9770\n",
      "Epoch 3/20\n",
      "48000/48000 [==============================] - 10s 207us/step - loss: 0.0861 - acc: 0.9773 - val_loss: 0.0880 - val_acc: 0.9796\n",
      "Epoch 4/20\n",
      "48000/48000 [==============================] - 9s 188us/step - loss: 0.0742 - acc: 0.9808 - val_loss: 0.1010 - val_acc: 0.9776\n",
      "Epoch 5/20\n",
      "48000/48000 [==============================] - 10s 200us/step - loss: 0.0663 - acc: 0.9831 - val_loss: 0.0904 - val_acc: 0.9825\n",
      "Epoch 6/20\n",
      "48000/48000 [==============================] - 10s 212us/step - loss: 0.0588 - acc: 0.9851 - val_loss: 0.0921 - val_acc: 0.9827\n",
      "Epoch 7/20\n",
      "48000/48000 [==============================] - 10s 199us/step - loss: 0.0569 - acc: 0.9868 - val_loss: 0.0989 - val_acc: 0.9799\n",
      "Epoch 8/20\n",
      "48000/48000 [==============================] - 11s 221us/step - loss: 0.0567 - acc: 0.9871 - val_loss: 0.0985 - val_acc: 0.9813\n",
      "Epoch 9/20\n",
      "48000/48000 [==============================] - 11s 239us/step - loss: 0.0513 - acc: 0.9878 - val_loss: 0.1011 - val_acc: 0.9822\n",
      "Epoch 10/20\n",
      "48000/48000 [==============================] - 10s 215us/step - loss: 0.0484 - acc: 0.9877 - val_loss: 0.1205 - val_acc: 0.9811\n",
      "Epoch 11/20\n",
      "48000/48000 [==============================] - 11s 238us/step - loss: 0.0483 - acc: 0.9882 - val_loss: 0.1090 - val_acc: 0.9821\n",
      "Epoch 12/20\n",
      "48000/48000 [==============================] - 12s 246us/step - loss: 0.0494 - acc: 0.9887 - val_loss: 0.1247 - val_acc: 0.9803\n",
      "Epoch 13/20\n",
      "48000/48000 [==============================] - 12s 247us/step - loss: 0.0464 - acc: 0.9898 - val_loss: 0.1344 - val_acc: 0.9814\n",
      "Epoch 14/20\n",
      "48000/48000 [==============================] - 14s 287us/step - loss: 0.0475 - acc: 0.9894 - val_loss: 0.1244 - val_acc: 0.9822\n",
      "Epoch 15/20\n",
      "48000/48000 [==============================] - 12s 248us/step - loss: 0.0448 - acc: 0.9905 - val_loss: 0.1375 - val_acc: 0.9822\n",
      "Epoch 16/20\n",
      "48000/48000 [==============================] - 11s 225us/step - loss: 0.0471 - acc: 0.9896 - val_loss: 0.1235 - val_acc: 0.9824\n",
      "Epoch 17/20\n",
      "48000/48000 [==============================] - 9s 184us/step - loss: 0.0439 - acc: 0.9909 - val_loss: 0.1306 - val_acc: 0.9825\n",
      "Epoch 18/20\n",
      "48000/48000 [==============================] - 8s 169us/step - loss: 0.0432 - acc: 0.9906 - val_loss: 0.1229 - val_acc: 0.9843\n",
      "Epoch 19/20\n",
      "48000/48000 [==============================] - 10s 204us/step - loss: 0.0456 - acc: 0.9894 - val_loss: 0.1357 - val_acc: 0.9827\n",
      "Epoch 20/20\n",
      "48000/48000 [==============================] - 12s 258us/step - loss: 0.0436 - acc: 0.9905 - val_loss: 0.1354 - val_acc: 0.9821\n"
     ]
    },
    {
     "data": {
      "image/png": "[encoded data removed]",
      "text/plain": [
       "<Figure size 504x648 with 1 Axes>"
      ]
     },
     "metadata": {
      "needs_background": "light"
     },
     "output_type": "display_data"
    },
    {
     "name": "stdout",
     "output_type": "stream",
     "text": [
      "              precision    recall  f1-score   support\n",
      "\n",
      "           0       0.99      0.98      0.99      2000\n",
      "           1       0.97      0.99      0.98      2000\n",
      "           2       0.94      0.95      0.95      2000\n",
      "           3       0.95      0.93      0.94      2000\n",
      "           4       0.94      0.95      0.95      2000\n",
      "           5       0.97      0.98      0.97      2000\n",
      "           6       0.96      0.96      0.96      2000\n",
      "           7       0.99      0.97      0.98      2000\n",
      "           8       0.99      0.97      0.98      2000\n",
      "           9       0.95      0.97      0.96      2000\n",
      "\n",
      "   micro avg       0.97      0.97      0.97     20000\n",
      "   macro avg       0.97      0.97      0.97     20000\n",
      "weighted avg       0.97      0.97      0.97     20000\n",
      "\n"
     ]
    }
   ],
   "source": [
    "model2 = Sequential()\n",
    "model2.add(Dense(50, activation='relu', input_shape=(32 * 32,)))\n",
    "model2.add(Dense(30, activation='relu'))\n",
    "model2.add(Dropout(0.2))\n",
    "model2.add(Dense(10, activation='softmax'))\n",
    "model2.compile(optimizer='rmsprop', loss='categorical_crossentropy', metrics=['accuracy'])\n",
    "history2 = model2.fit(train_images, train_labels, epochs=20, validation_split=0.2)\n",
    "\n",
    "# plot results\n",
    "plt.plot(history2.history['loss'])\n",
    "plt.plot(history2.history['val_loss'])\n",
    "plt.title('model loss')\n",
    "plt.ylabel('loss')\n",
    "plt.xlabel('epoch')\n",
    "plt.legend(['train', 'test'], loc='upper left')\n",
    "plt.show()\n",
    "\n",
    "# metrics\n",
    "predicted2 = model2.predict(test_images, verbose=0)\n",
    "predicted_classes2 = model.predict_classes(test_images, verbose=0)\n",
    "\n",
    "# reduce to 1D array\n",
    "predicted2 = np.argmax(predicted2, axis=1)\n",
    "        \n",
    "report = classification_report(np.argmax(test_labels, axis=1), predicted2)\n",
    "print(report)"
   ]
  },
  {
   "cell_type": "markdown",
   "metadata": {},
   "source": [
    "as we can see, loss is a bit higher but metrics are very higher than the other one"
   ]
  },
  {
   "cell_type": "markdown",
   "metadata": {},
   "source": [
    "# Validation Set\n",
    "\n",
    "validation set is a part of train set that network **doesn't see and learn them**. they are just for knowing the error for each epoch for the designer and test network during training. all examples before were computed with 0.2 split for validation set. in means 0.2 of data was dedicated for validation test . all orange lines in plots are loss for validation sets ."
   ]
  },
  {
   "cell_type": "markdown",
   "metadata": {},
   "source": [
    "# Batch Size\n",
    "batch size is related to learning phase for the network. it means that network batches some input data and changes the weights of the network after computing them all . e.g if batch size is 5 in this example, the model batches 5 picture, computes changes for each of them and applies the merge of computations after all computations for 5 images done. and it goes to next batch to learn all data. the speed of learning with batch size will increase but it may affect on accuracy of model.\n",
    "\n",
    "we use **batch size of 100** for this example and compare the results with previous models."
   ]
  },
  {
   "cell_type": "code",
   "execution_count": 54,
   "metadata": {},
   "outputs": [
    {
     "name": "stdout",
     "output_type": "stream",
     "text": [
      "Train on 48000 samples, validate on 12000 samples\n",
      "Epoch 1/20\n",
      "48000/48000 [==============================] - 6s 128us/step - loss: 0.2919 - acc: 0.9175 - val_loss: 0.1152 - val_acc: 0.9665\n",
      "Epoch 2/20\n",
      "48000/48000 [==============================] - 4s 91us/step - loss: 0.1209 - acc: 0.9666 - val_loss: 0.0925 - val_acc: 0.9744\n",
      "Epoch 3/20\n",
      "48000/48000 [==============================] - 5s 103us/step - loss: 0.0889 - acc: 0.9761 - val_loss: 0.0735 - val_acc: 0.9790\n",
      "Epoch 4/20\n",
      "48000/48000 [==============================] - 5s 96us/step - loss: 0.0727 - acc: 0.9794 - val_loss: 0.0729 - val_acc: 0.9808\n",
      "Epoch 5/20\n",
      "48000/48000 [==============================] - 5s 97us/step - loss: 0.0602 - acc: 0.9827 - val_loss: 0.0697 - val_acc: 0.9818\n",
      "Epoch 6/20\n",
      "48000/48000 [==============================] - 4s 79us/step - loss: 0.0498 - acc: 0.9857 - val_loss: 0.0691 - val_acc: 0.9828\n",
      "Epoch 7/20\n",
      "48000/48000 [==============================] - 4s 87us/step - loss: 0.0417 - acc: 0.9879 - val_loss: 0.0669 - val_acc: 0.9824\n",
      "Epoch 8/20\n",
      "48000/48000 [==============================] - 5s 100us/step - loss: 0.0373 - acc: 0.9892 - val_loss: 0.0659 - val_acc: 0.9847\n",
      "Epoch 9/20\n",
      "48000/48000 [==============================] - 4s 93us/step - loss: 0.0311 - acc: 0.9909 - val_loss: 0.0709 - val_acc: 0.9837\n",
      "Epoch 10/20\n",
      "48000/48000 [==============================] - 4s 89us/step - loss: 0.0281 - acc: 0.9914 - val_loss: 0.0728 - val_acc: 0.9837\n",
      "Epoch 11/20\n",
      "48000/48000 [==============================] - 5s 105us/step - loss: 0.0243 - acc: 0.9927 - val_loss: 0.0802 - val_acc: 0.9843\n",
      "Epoch 12/20\n",
      "48000/48000 [==============================] - 6s 127us/step - loss: 0.0217 - acc: 0.9934 - val_loss: 0.0807 - val_acc: 0.9836\n",
      "Epoch 13/20\n",
      "48000/48000 [==============================] - 5s 100us/step - loss: 0.0202 - acc: 0.9937 - val_loss: 0.0798 - val_acc: 0.9838\n",
      "Epoch 14/20\n",
      "48000/48000 [==============================] - 6s 118us/step - loss: 0.0175 - acc: 0.9947 - val_loss: 0.0853 - val_acc: 0.9829\n",
      "Epoch 15/20\n",
      "48000/48000 [==============================] - 6s 117us/step - loss: 0.0165 - acc: 0.9949 - val_loss: 0.0830 - val_acc: 0.9844\n",
      "Epoch 16/20\n",
      "48000/48000 [==============================] - 5s 105us/step - loss: 0.0152 - acc: 0.9950 - val_loss: 0.0818 - val_acc: 0.9853\n",
      "Epoch 17/20\n",
      "48000/48000 [==============================] - 6s 122us/step - loss: 0.0140 - acc: 0.9959 - val_loss: 0.0859 - val_acc: 0.9834\n",
      "Epoch 18/20\n",
      "48000/48000 [==============================] - 5s 99us/step - loss: 0.0132 - acc: 0.9960 - val_loss: 0.0928 - val_acc: 0.9850\n",
      "Epoch 19/20\n",
      "48000/48000 [==============================] - 5s 100us/step - loss: 0.0116 - acc: 0.9964 - val_loss: 0.0873 - val_acc: 0.9852\n",
      "Epoch 20/20\n",
      "48000/48000 [==============================] - 5s 100us/step - loss: 0.0119 - acc: 0.9962 - val_loss: 0.0925 - val_acc: 0.9847\n"
     ]
    },
    {
     "data": {
      "image/png": "[encoded data removed]",
      "text/plain": [
       "<Figure size 504x648 with 1 Axes>"
      ]
     },
     "metadata": {
      "needs_background": "light"
     },
     "output_type": "display_data"
    },
    {
     "name": "stdout",
     "output_type": "stream",
     "text": [
      "              precision    recall  f1-score   support\n",
      "\n",
      "           0       0.99      0.99      0.99      2000\n",
      "           1       0.97      0.99      0.98      2000\n",
      "           2       0.94      0.96      0.95      2000\n",
      "           3       0.94      0.94      0.94      2000\n",
      "           4       0.96      0.95      0.95      2000\n",
      "           5       0.97      0.98      0.98      2000\n",
      "           6       0.98      0.96      0.97      2000\n",
      "           7       0.99      0.98      0.99      2000\n",
      "           8       0.99      0.97      0.98      2000\n",
      "           9       0.97      0.97      0.97      2000\n",
      "\n",
      "   micro avg       0.97      0.97      0.97     20000\n",
      "   macro avg       0.97      0.97      0.97     20000\n",
      "weighted avg       0.97      0.97      0.97     20000\n",
      "\n"
     ]
    }
   ],
   "source": [
    "model3 = Sequential()\n",
    "model3.add(Dense(50, activation='relu', input_shape=(32 * 32,)))\n",
    "model3.add(Dense(30, activation='relu'))\n",
    "model3.add(Dropout(0.2))\n",
    "model3.add(Dense(10, activation='softmax'))\n",
    "model3.compile(optimizer='rmsprop', loss='categorical_crossentropy', metrics=['accuracy'])\n",
    "history3 = model3.fit(train_images, train_labels, epochs=20, validation_split=0.2, batch_size=100)\n",
    "\n",
    "# plot results\n",
    "plt.plot(history3.history['loss'])\n",
    "plt.plot(history3.history['val_loss'])\n",
    "plt.title('model loss')\n",
    "plt.ylabel('loss')\n",
    "plt.xlabel('epoch')\n",
    "plt.legend(['train', 'test'], loc='upper left')\n",
    "plt.show()\n",
    "\n",
    "# metrics\n",
    "predicted3 = model3.predict(test_images, verbose=0)\n",
    "predicted_classes3 = model.predict_classes(test_images, verbose=0)\n",
    "\n",
    "# reduce to 1D array\n",
    "predicted3 = np.argmax(predicted3, axis=1)\n",
    "        \n",
    "report = classification_report(np.argmax(test_labels, axis=1), predicted3)\n",
    "print(report)"
   ]
  },
  {
   "cell_type": "markdown",
   "metadata": {},
   "source": [
    "there is almost no difference with running the model with Dropout and Validation set. but it caused the network to learn faster. so sometimes it is better to use batch size for learning a network"
   ]
  },
  {
   "cell_type": "code",
   "execution_count": null,
   "metadata": {},
   "outputs": [],
   "source": []
  }
 ],
 "metadata": {
  "kernelspec": {
   "display_name": "Python 3",
   "language": "python",
   "name": "python3"
  },
  "language_info": {
   "codemirror_mode": {
    "name": "ipython",
    "version": 3
   },
   "file_extension": ".py",
   "mimetype": "text/x-python",
   "name": "python",
   "nbconvert_exporter": "python",
   "pygments_lexer": "ipython3",
   "version": "3.7.3"
  }
 },
 "nbformat": 4,
 "nbformat_minor": 2
}
